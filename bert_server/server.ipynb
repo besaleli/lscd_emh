{
 "cells": [
  {
   "cell_type": "code",
   "execution_count": null,
   "metadata": {},
   "outputs": [],
   "source": [
    "!pip install transformers flask flask-ngrok\n",
    "\n",
    "from transformers import AutoModel, AutoTokenizer\n",
    "import torch\n",
    "from flask import Flask, request\n",
    "from flask_ngrok import run_with_ngrok\n",
    "import json"
   ]
  },
  {
   "cell_type": "code",
   "execution_count": null,
   "metadata": {},
   "outputs": [],
   "source": [
    "device = 'cuda' if torch.cuda.is_available() else 'cpu'\n",
    "app = Flask(__name__)\n",
    "run_with_ngrok(app)\n",
    "\n",
    "MODEL_NAME = 'onlplab/alephbert-base'"
   ]
  },
  {
   "cell_type": "code",
   "execution_count": null,
   "metadata": {},
   "outputs": [],
   "source": [
    "model = AutoModel.from_pretrained(MODEL_NAME, output_hidden_states=True).to(device)\n",
    "print(f'MODEL RUNNING ON DEVICE {model.device}')\n",
    "tokenizer = AutoTokenizer.from_pretrained(MODEL_NAME)\n",
    "\n",
    "model.eval()"
   ]
  },
  {
   "cell_type": "code",
   "execution_count": null,
   "metadata": {},
   "outputs": [],
   "source": [
    "def encode_sents(*args):\n",
    "    assert all(type(i) == str for i in args)\n",
    "    for arg in args:\n",
    "        tokenized_inputs = tokenizer(arg, return_tensors='pt').to(0)\n",
    "        tokens = tokenizer.convert_ids_to_tokens(tokenized_inputs.input_ids.squeeze())[1:-1]\n",
    "        word_ids = tokenized_inputs.word_ids()[1:-1]\n",
    "        \n",
    "        with torch.no_grad():\n",
    "            hidden_states = model(**tokenized_inputs).hidden_states\n",
    "            \n",
    "        hidden_states = hidden_states[-1].detach().cpu().squeeze()[1:-1]\n",
    "        exports = zip(tokens, word_ids, hidden_states.tolist())\n",
    "        \n",
    "        yield [{'token': t, \n",
    "                'word_id': w, \n",
    "                'embedding': h} for t, w, h in exports]"
   ]
  },
  {
   "cell_type": "code",
   "execution_count": null,
   "metadata": {},
   "outputs": [],
   "source": [
    "@app.route('/get_embeddings', methods=['POST'])\n",
    "def get_embeddings():\n",
    "    data = request.get_json(force=True, silent=True)\n",
    "    assert all(i in ['instances', 'parameters'] for i in data.keys())\n",
    "    \n",
    "    return {'predictions': [i for i in encode_sents(*data['instances'])]}"
   ]
  },
  {
   "cell_type": "code",
   "execution_count": null,
   "metadata": {},
   "outputs": [],
   "source": [
    "app.run()"
   ]
  }
 ],
 "metadata": {
  "kernelspec": {
   "display_name": "Python 3.9.2 ('.venv': venv)",
   "language": "python",
   "name": "python3"
  },
  "language_info": {
   "name": "python",
   "version": "3.9.2"
  },
  "orig_nbformat": 4,
  "vscode": {
   "interpreter": {
    "hash": "de9991cef7b7d837b1ee61374c4112b64c7e3db5fba8616e97faa966770e617d"
   }
  }
 },
 "nbformat": 4,
 "nbformat_minor": 2
}
