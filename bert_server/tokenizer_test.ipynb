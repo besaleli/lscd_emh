{
 "cells": [
  {
   "cell_type": "code",
   "execution_count": 1,
   "metadata": {},
   "outputs": [
    {
     "name": "stderr",
     "output_type": "stream",
     "text": [
      "/Users/besaleli/lscd_emh/.venv/lib/python3.9/site-packages/tqdm/auto.py:22: TqdmWarning: IProgress not found. Please update jupyter and ipywidgets. See https://ipywidgets.readthedocs.io/en/stable/user_install.html\n",
      "  from .autonotebook import tqdm as notebook_tqdm\n",
      "The cache for model files in Transformers v4.22.0 has been updated. Migrating your old cache. This is a one-time only operation. You can interrupt this and resume the migration later on by calling `transformers.utils.move_cache()`.\n"
     ]
    },
    {
     "name": "stdout",
     "output_type": "stream",
     "text": [
      "Moving 15 files to the new cache system\n"
     ]
    },
    {
     "name": "stderr",
     "output_type": "stream",
     "text": [
      "  0%|          | 0/15 [00:00<?, ?it/s]\n",
      "There was a problem when trying to move your cache:\n",
      "\n",
      "  File \"/Users/besaleli/lscd_emh/.venv/lib/python3.9/site-packages/transformers/utils/hub.py\", line 1128, in <module>\n",
      "    move_cache()\n",
      "\n",
      "  File \"/Users/besaleli/lscd_emh/.venv/lib/python3.9/site-packages/transformers/utils/hub.py\", line 1071, in move_cache\n",
      "    hub_metadata[url] = get_hub_metadata(url, token=token)\n",
      "\n",
      "  File \"/Users/besaleli/lscd_emh/.venv/lib/python3.9/site-packages/transformers/utils/hub.py\", line 996, in get_hub_metadata\n",
      "    huggingface_hub.file_download._raise_for_status(r)\n",
      "\n",
      "AttributeError: module 'huggingface_hub.file_download' has no attribute '_raise_for_status'\n",
      "\n",
      "Please file an issue at https://github.com/huggingface/transformers/issues/new/choose and copy paste this whole message and we will do our best to help.\n"
     ]
    }
   ],
   "source": [
    "from transformers import AutoTokenizer\n",
    "import torch"
   ]
  },
  {
   "cell_type": "code",
   "execution_count": 2,
   "metadata": {},
   "outputs": [],
   "source": [
    "tokenizer = AutoTokenizer.from_pretrained('bert-base-uncased')"
   ]
  },
  {
   "cell_type": "code",
   "execution_count": 6,
   "metadata": {},
   "outputs": [
    {
     "data": {
      "text/plain": [
       "[[101, 7592, 2026, 2171, 2003, 10958, 2480, 102]]"
      ]
     },
     "execution_count": 6,
     "metadata": {},
     "output_type": "execute_result"
    }
   ],
   "source": [
    "tokenizer('hello my name is raz', return_tensors='pt').to('cpu').input_ids.tolist()"
   ]
  }
 ],
 "metadata": {
  "kernelspec": {
   "display_name": "Python 3.9.2 ('.venv': venv)",
   "language": "python",
   "name": "python3"
  },
  "language_info": {
   "codemirror_mode": {
    "name": "ipython",
    "version": 3
   },
   "file_extension": ".py",
   "mimetype": "text/x-python",
   "name": "python",
   "nbconvert_exporter": "python",
   "pygments_lexer": "ipython3",
   "version": "3.9.2"
  },
  "orig_nbformat": 4,
  "vscode": {
   "interpreter": {
    "hash": "de9991cef7b7d837b1ee61374c4112b64c7e3db5fba8616e97faa966770e617d"
   }
  }
 },
 "nbformat": 4,
 "nbformat_minor": 2
}
